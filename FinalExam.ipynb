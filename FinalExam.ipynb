{
 "cells": [
  {
   "attachments": {
    "PythonLogo.jpeg": {
     "image/jpeg": "[encoded data removed]"
    }
   },
   "cell_type": "markdown",
   "id": "b473dcc1",
   "metadata": {
    "slideshow": {
     "slide_type": "slide"
    }
   },
   "source": [
    " # Introduction to Data Science\n",
    "![PythonLogo.jpeg](attachment:PythonLogo.jpeg)\n",
    "## By: Avanish Davuluri\n",
    "\n",
    "### Note: I answered Questions 1-4 in a cell after the output of each algorithm. I answered Question 5 at the end of the document, after the Improving Accuracy & Moving Forward Section"
   ]
  },
  {
   "cell_type": "markdown",
   "id": "adc1c4d8",
   "metadata": {},
   "source": [
    "## Initial Preprocessing"
   ]
  },
  {
   "cell_type": "code",
   "execution_count": 1,
   "id": "f08f5dc1",
   "metadata": {
    "slideshow": {
     "slide_type": "notes"
    }
   },
   "outputs": [],
   "source": [
    "# *** Question 2a, 2b *** \n",
    "#Import Modules necessary for the rest of this script\n",
    "import numpy as np #Not really used\n",
    "import pandas as pd #For Dataframe capabilities\n",
    "import matplotlib.pyplot as plt #For basic graphing later on\n",
    "import seaborn as sns #Easily make matplotlib graphs look better"
   ]
  },
  {
   "cell_type": "code",
   "execution_count": 2,
   "id": "3e8434a5",
   "metadata": {
    "slideshow": {
     "slide_type": "notes"
    }
   },
   "outputs": [],
   "source": [
    "# *** Question 2a, 2b ***\n",
    "#Reading file into a DataFrame\n",
    "df = pd.read_excel(\"annual_generation_state.xls\", skiprows = 1) #Excel since gov information is all excel files"
   ]
  },
  {
   "cell_type": "code",
   "execution_count": 3,
   "id": "56caefef",
   "metadata": {
    "slideshow": {
     "slide_type": "slide"
    }
   },
   "outputs": [],
   "source": [
    "# *** Question 2a, 2b ***\n",
    "'''\n",
    "Modify data so it is useful for my study by\n",
    "Removing information about type of energy company, type of producer, states besides CA\n",
    "'''\n",
    "def adjustments(df):\n",
    "    df = df.copy(deep = \"True\")\n",
    "    df = df[df['TYPE OF PRODUCER'].str.contains('Total Electric Power Industry')] #Only have total production\n",
    "    df.set_index('STATE', inplace = True) #Be able to index by state\n",
    "    df.drop('TYPE OF PRODUCER', axis=1, inplace=True) #Not needed since production type is all total\n",
    "    df_ca = df.loc['CA'].copy(deep = \"True\") #Only CA values\n",
    "    return df_ca\n",
    "\n",
    "df_ca = adjustments(df) "
   ]
  },
  {
   "cell_type": "code",
   "execution_count": 4,
   "id": "0da59861",
   "metadata": {
    "slideshow": {
     "slide_type": "slide"
    }
   },
   "outputs": [],
   "source": [
    "# *** Question 2a, 2b ***\n",
    "'''\n",
    "My study is about the relative percentages of the different energy sources that CA uses\n",
    "So, I need to have a dataframe showing relative percentages instead of the flat megawatthours in df_ca\n",
    "'''\n",
    "#Return percents of energy type out of total for any year in data\n",
    "def calc_percs(year): \n",
    "    df_year = df_ca[df_ca['YEAR'] == year].copy(deep = \"True\") #Only values of that year\n",
    "    df_year.set_index('ENERGY SOURCE', inplace = True) #Able to get total energy production\n",
    "    df_year.drop('YEAR', axis=1, inplace=True) #Not needed since all values are for that year\n",
    "    total_year = float(df_year.loc['Total']) #Total Energy Production for CA in that year\n",
    "    df_raw = df_year.div(total_year, axis = 1) #Relative amount of energy production (total = 1)\n",
    "    df_perc = df_raw.mul(100, axis = 1) #Covert relative amount to percentage value\n",
    "    df_perc = df_perc.drop('Total')\n",
    "    df_perc.sort_values(by=['GENERATION (Megawatthours)'], ascending=False, inplace = True) #sort from greatest to least\n",
    "    return df_perc\n",
    "\n",
    "\n",
    "all_years = pd.DataFrame() #Initialize empty dataframe\n",
    "\n",
    "years_list = list(map(str, range(1990, 2021))) #Create list of years from 1990 - 2020\n",
    "for i in range(0, len(years_list)): #Convert elements of list from str to int\n",
    "    years_list[i] = int(years_list[i])\n",
    "    \n",
    "    \n",
    "def year_en_type(energy_type): #Make dataframes of 1990 - 2020 percentages per energy type\n",
    "    en_type = []\n",
    "    for year in years_list:\n",
    "        year_based = calc_percs(year)\n",
    "        year_based = year_based.loc[energy_type]\n",
    "        en_type.append(year_based)\n",
    "    en_type = pd.DataFrame(en_type)\n",
    "    en_type.rename(columns = {'GENERATION (Megawatthours)': energy_type}, inplace = True)\n",
    "    en_type = en_type.assign(Year = years_list)\n",
    "    en_type['Year'] = en_type['Year'].astype(int) #Convert year from float to int\n",
    "    en_type.set_index('Year', inplace = True)\n",
    "    all_years[energy_type] = en_type[energy_type]\n",
    "\n",
    "def combine_datsets(col_names): #Combine all of the dataframes into all_years\n",
    "    for name in col_names:\n",
    "        year_en_type(name)\n",
    "\n",
    "#Big Dataset for all percentages per energy type from 1990 - 2020\n",
    "en_source_list = df_ca['ENERGY SOURCE'].tolist()\n",
    "en_source_set = set(en_source_list)\n",
    "en_source_set.remove('Total')\n",
    "combine_datsets(en_source_set)\n",
    "all_years = all_years.rename(columns = {'Solar Thermal and Photovoltaic':'Solar',\n",
    "                                        'Hydroelectric Conventional':'Hydro'}) #Easier to Read"
   ]
  },
  {
   "cell_type": "markdown",
   "id": "36dcde34",
   "metadata": {
    "slideshow": {
     "slide_type": "slide"
    }
   },
   "source": [
    "###  Null Values Handling\n",
    "#### Doing this step here to ensure that graphs have all the right information and do not throw any errors"
   ]
  },
  {
   "cell_type": "code",
   "execution_count": 5,
   "id": "c2bb4089",
   "metadata": {
    "slideshow": {
     "slide_type": "subslide"
    }
   },
   "outputs": [
    {
     "name": "stdout",
     "output_type": "stream",
     "text": [
      "Checking to see if there is any missing data:\n",
      "Each count of True means that there is 1 missing value for the variable under the True count\n",
      "\n",
      "False    31\n",
      "Name: Other, dtype: int64\n",
      "\n",
      "False    31\n",
      "Name: Coal, dtype: int64\n",
      "\n",
      "False    31\n",
      "Name: Wood and Wood Derived Fuels, dtype: int64\n",
      "\n",
      "False    31\n",
      "Name: Geothermal, dtype: int64\n",
      "\n",
      "False    31\n",
      "Name: Wind, dtype: int64\n",
      "\n",
      "False    31\n",
      "Name: Other Gases, dtype: int64\n",
      "\n",
      "False    31\n",
      "Name: Natural Gas, dtype: int64\n",
      "\n",
      "False    31\n",
      "Name: Petroleum, dtype: int64\n",
      "\n",
      "False    31\n",
      "Name: Other Biomass, dtype: int64\n",
      "\n",
      "False    31\n",
      "Name: Hydro, dtype: int64\n",
      "\n",
      "False    31\n",
      "Name: Pumped Storage, dtype: int64\n",
      "\n",
      "False    31\n",
      "Name: Solar, dtype: int64\n",
      "\n",
      "False    31\n",
      "Name: Nuclear, dtype: int64\n",
      "\n",
      "No columns in all_types have any missing values. Congrats to the Department of Energy for being thorough with their datasets\n"
     ]
    }
   ],
   "source": [
    "# *** Question 2 ***\n",
    "#Identifying Missing values in all_types\n",
    "print(\"Checking to see if there is any missing data:\")\n",
    "print(\"Each count of True means that there is 1 missing value for the variable under the True count\")\n",
    "print(\"\")\n",
    "missing_data = all_years.isnull() #Verify that all_types has no missing values\n",
    "for column in missing_data.columns.values.tolist():\n",
    "    print(missing_data[column].value_counts())\n",
    "    print(\"\")\n",
    "print(\"No columns in all_types have any missing values. Congrats to the Department of Energy for being thorough with their datasets\")"
   ]
  },
  {
   "cell_type": "code",
   "execution_count": 6,
   "id": "a3d1726a",
   "metadata": {
    "slideshow": {
     "slide_type": "subslide"
    }
   },
   "outputs": [
    {
     "data": {
      "text/html": [
       "<div>\n",
       "<style scoped>\n",
       "    .dataframe tbody tr th:only-of-type {\n",
       "        vertical-align: middle;\n",
       "    }\n",
       "\n",
       "    .dataframe tbody tr th {\n",
       "        vertical-align: top;\n",
       "    }\n",
       "\n",
       "    .dataframe thead th {\n",
       "        text-align: right;\n",
       "    }\n",
       "</style>\n",
       "<table border=\"1\" class=\"dataframe\">\n",
       "  <thead>\n",
       "    <tr style=\"text-align: right;\">\n",
       "      <th></th>\n",
       "      <th>Fossil Fuels</th>\n",
       "      <th>Renewable Energy</th>\n",
       "    </tr>\n",
       "    <tr>\n",
       "      <th>Year</th>\n",
       "      <th></th>\n",
       "      <th></th>\n",
       "    </tr>\n",
       "  </thead>\n",
       "  <tbody>\n",
       "    <tr>\n",
       "      <th>1990</th>\n",
       "      <td>53.411716</td>\n",
       "      <td>46.588284</td>\n",
       "    </tr>\n",
       "    <tr>\n",
       "      <th>1991</th>\n",
       "      <td>53.292302</td>\n",
       "      <td>46.707698</td>\n",
       "    </tr>\n",
       "    <tr>\n",
       "      <th>1992</th>\n",
       "      <td>56.972620</td>\n",
       "      <td>43.027380</td>\n",
       "    </tr>\n",
       "    <tr>\n",
       "      <th>1993</th>\n",
       "      <td>49.922025</td>\n",
       "      <td>50.077975</td>\n",
       "    </tr>\n",
       "    <tr>\n",
       "      <th>1994</th>\n",
       "      <td>58.171998</td>\n",
       "      <td>41.828002</td>\n",
       "    </tr>\n",
       "    <tr>\n",
       "      <th>1995</th>\n",
       "      <td>45.676517</td>\n",
       "      <td>54.323483</td>\n",
       "    </tr>\n",
       "    <tr>\n",
       "      <th>1996</th>\n",
       "      <td>43.340206</td>\n",
       "      <td>56.659794</td>\n",
       "    </tr>\n",
       "    <tr>\n",
       "      <th>1997</th>\n",
       "      <td>47.183351</td>\n",
       "      <td>52.816649</td>\n",
       "    </tr>\n",
       "    <tr>\n",
       "      <th>1998</th>\n",
       "      <td>45.226570</td>\n",
       "      <td>54.773430</td>\n",
       "    </tr>\n",
       "    <tr>\n",
       "      <th>1999</th>\n",
       "      <td>50.681816</td>\n",
       "      <td>49.318184</td>\n",
       "    </tr>\n",
       "    <tr>\n",
       "      <th>2000</th>\n",
       "      <td>55.124819</td>\n",
       "      <td>44.875181</td>\n",
       "    </tr>\n",
       "    <tr>\n",
       "      <th>2001</th>\n",
       "      <td>61.370110</td>\n",
       "      <td>38.629890</td>\n",
       "    </tr>\n",
       "    <tr>\n",
       "      <th>2002</th>\n",
       "      <td>54.019137</td>\n",
       "      <td>45.980863</td>\n",
       "    </tr>\n",
       "    <tr>\n",
       "      <th>2003</th>\n",
       "      <td>52.944683</td>\n",
       "      <td>47.055318</td>\n",
       "    </tr>\n",
       "    <tr>\n",
       "      <th>2004</th>\n",
       "      <td>57.010049</td>\n",
       "      <td>42.989950</td>\n",
       "    </tr>\n",
       "    <tr>\n",
       "      <th>2005</th>\n",
       "      <td>52.094305</td>\n",
       "      <td>47.905694</td>\n",
       "    </tr>\n",
       "    <tr>\n",
       "      <th>2006</th>\n",
       "      <td>53.599608</td>\n",
       "      <td>46.400392</td>\n",
       "    </tr>\n",
       "    <tr>\n",
       "      <th>2007</th>\n",
       "      <td>59.749189</td>\n",
       "      <td>40.250811</td>\n",
       "    </tr>\n",
       "    <tr>\n",
       "      <th>2008</th>\n",
       "      <td>62.385709</td>\n",
       "      <td>37.614291</td>\n",
       "    </tr>\n",
       "    <tr>\n",
       "      <th>2009</th>\n",
       "      <td>60.145582</td>\n",
       "      <td>39.854418</td>\n",
       "    </tr>\n",
       "    <tr>\n",
       "      <th>2010</th>\n",
       "      <td>57.203208</td>\n",
       "      <td>42.796792</td>\n",
       "    </tr>\n",
       "    <tr>\n",
       "      <th>2011</th>\n",
       "      <td>48.751404</td>\n",
       "      <td>51.248596</td>\n",
       "    </tr>\n",
       "    <tr>\n",
       "      <th>2012</th>\n",
       "      <td>63.868583</td>\n",
       "      <td>36.131418</td>\n",
       "    </tr>\n",
       "    <tr>\n",
       "      <th>2013</th>\n",
       "      <td>63.189997</td>\n",
       "      <td>36.810003</td>\n",
       "    </tr>\n",
       "    <tr>\n",
       "      <th>2014</th>\n",
       "      <td>64.110073</td>\n",
       "      <td>35.889927</td>\n",
       "    </tr>\n",
       "    <tr>\n",
       "      <th>2015</th>\n",
       "      <td>62.259337</td>\n",
       "      <td>37.740663</td>\n",
       "    </tr>\n",
       "    <tr>\n",
       "      <th>2016</th>\n",
       "      <td>52.136581</td>\n",
       "      <td>47.863419</td>\n",
       "    </tr>\n",
       "    <tr>\n",
       "      <th>2017</th>\n",
       "      <td>45.549342</td>\n",
       "      <td>54.450658</td>\n",
       "    </tr>\n",
       "    <tr>\n",
       "      <th>2018</th>\n",
       "      <td>48.888495</td>\n",
       "      <td>51.111505</td>\n",
       "    </tr>\n",
       "    <tr>\n",
       "      <th>2019</th>\n",
       "      <td>45.390745</td>\n",
       "      <td>54.609256</td>\n",
       "    </tr>\n",
       "    <tr>\n",
       "      <th>2020</th>\n",
       "      <td>50.570334</td>\n",
       "      <td>49.429666</td>\n",
       "    </tr>\n",
       "  </tbody>\n",
       "</table>\n",
       "</div>"
      ],
      "text/plain": [
       "      Fossil Fuels  Renewable Energy\n",
       "Year                                \n",
       "1990     53.411716         46.588284\n",
       "1991     53.292302         46.707698\n",
       "1992     56.972620         43.027380\n",
       "1993     49.922025         50.077975\n",
       "1994     58.171998         41.828002\n",
       "1995     45.676517         54.323483\n",
       "1996     43.340206         56.659794\n",
       "1997     47.183351         52.816649\n",
       "1998     45.226570         54.773430\n",
       "1999     50.681816         49.318184\n",
       "2000     55.124819         44.875181\n",
       "2001     61.370110         38.629890\n",
       "2002     54.019137         45.980863\n",
       "2003     52.944683         47.055318\n",
       "2004     57.010049         42.989950\n",
       "2005     52.094305         47.905694\n",
       "2006     53.599608         46.400392\n",
       "2007     59.749189         40.250811\n",
       "2008     62.385709         37.614291\n",
       "2009     60.145582         39.854418\n",
       "2010     57.203208         42.796792\n",
       "2011     48.751404         51.248596\n",
       "2012     63.868583         36.131418\n",
       "2013     63.189997         36.810003\n",
       "2014     64.110073         35.889927\n",
       "2015     62.259337         37.740663\n",
       "2016     52.136581         47.863419\n",
       "2017     45.549342         54.450658\n",
       "2018     48.888495         51.111505\n",
       "2019     45.390745         54.609256\n",
       "2020     50.570334         49.429666"
      ]
     },
     "execution_count": 6,
     "metadata": {},
     "output_type": "execute_result"
    }
   ],
   "source": [
    "# *** Question 2c ***\n",
    "# Calculate percentage of fossil fuels vs renewable energy produced\n",
    "def cat_percs(df): #Create dataframe with 2 entries (fossil fuel and renewable energy) that have percent values\n",
    "    df2 = df.copy(deep = \"True\")\n",
    "    df2['Fossil Fuels'] = df['Coal'] + df['Natural Gas'] + df['Other Gases'] + df['Petroleum'] + df['Wood and Wood Derived Fuels'] + df['Other']\n",
    "    df2['Renewable Energy'] = df['Geothermal'] + df['Pumped Storage'] + df['Hydro'] + df['Nuclear'] + df['Other Biomass'] + df['Solar'] + df['Wind']\n",
    "    df2 = df2.loc[:, ['Fossil Fuels', 'Renewable Energy']]\n",
    "    return df2\n",
    "\n",
    "cat_df = cat_percs(all_years)\n",
    "cat_df"
   ]
  },
  {
   "cell_type": "code",
   "execution_count": 7,
   "id": "eafe05e8",
   "metadata": {
    "slideshow": {
     "slide_type": "subslide"
    }
   },
   "outputs": [
    {
     "data": {
      "text/html": [
       "<div>\n",
       "<style scoped>\n",
       "    .dataframe tbody tr th:only-of-type {\n",
       "        vertical-align: middle;\n",
       "    }\n",
       "\n",
       "    .dataframe tbody tr th {\n",
       "        vertical-align: top;\n",
       "    }\n",
       "\n",
       "    .dataframe thead th {\n",
       "        text-align: right;\n",
       "    }\n",
       "</style>\n",
       "<table border=\"1\" class=\"dataframe\">\n",
       "  <thead>\n",
       "    <tr style=\"text-align: right;\">\n",
       "      <th></th>\n",
       "      <th>GENERATION (Megawatthours)</th>\n",
       "    </tr>\n",
       "    <tr>\n",
       "      <th>ENERGY SOURCE</th>\n",
       "      <th></th>\n",
       "    </tr>\n",
       "  </thead>\n",
       "  <tbody>\n",
       "    <tr>\n",
       "      <th>Coal</th>\n",
       "      <td>-90.550016</td>\n",
       "    </tr>\n",
       "    <tr>\n",
       "      <th>Geothermal</th>\n",
       "      <td>-32.788655</td>\n",
       "    </tr>\n",
       "    <tr>\n",
       "      <th>Hydroelectric Conventional</th>\n",
       "      <td>-22.850294</td>\n",
       "    </tr>\n",
       "    <tr>\n",
       "      <th>Natural Gas</th>\n",
       "      <td>6.563602</td>\n",
       "    </tr>\n",
       "    <tr>\n",
       "      <th>Nuclear</th>\n",
       "      <td>-57.297563</td>\n",
       "    </tr>\n",
       "    <tr>\n",
       "      <th>Other</th>\n",
       "      <td>inf</td>\n",
       "    </tr>\n",
       "    <tr>\n",
       "      <th>Other Biomass</th>\n",
       "      <td>6.020841</td>\n",
       "    </tr>\n",
       "    <tr>\n",
       "      <th>Other Gases</th>\n",
       "      <td>-38.483897</td>\n",
       "    </tr>\n",
       "    <tr>\n",
       "      <th>Petroleum</th>\n",
       "      <td>-99.311127</td>\n",
       "    </tr>\n",
       "    <tr>\n",
       "      <th>Pumped Storage</th>\n",
       "      <td>-103.232283</td>\n",
       "    </tr>\n",
       "    <tr>\n",
       "      <th>Solar Thermal and Photovoltaic</th>\n",
       "      <td>6989.171884</td>\n",
       "    </tr>\n",
       "    <tr>\n",
       "      <th>Wind</th>\n",
       "      <td>322.751042</td>\n",
       "    </tr>\n",
       "    <tr>\n",
       "      <th>Wood and Wood Derived Fuels</th>\n",
       "      <td>-36.983553</td>\n",
       "    </tr>\n",
       "  </tbody>\n",
       "</table>\n",
       "</div>"
      ],
      "text/plain": [
       "                                GENERATION (Megawatthours)\n",
       "ENERGY SOURCE                                             \n",
       "Coal                                            -90.550016\n",
       "Geothermal                                      -32.788655\n",
       "Hydroelectric Conventional                      -22.850294\n",
       "Natural Gas                                       6.563602\n",
       "Nuclear                                         -57.297563\n",
       "Other                                                  inf\n",
       "Other Biomass                                     6.020841\n",
       "Other Gases                                     -38.483897\n",
       "Petroleum                                       -99.311127\n",
       "Pumped Storage                                 -103.232283\n",
       "Solar Thermal and Photovoltaic                 6989.171884\n",
       "Wind                                            322.751042\n",
       "Wood and Wood Derived Fuels                     -36.983553"
      ]
     },
     "execution_count": 7,
     "metadata": {},
     "output_type": "execute_result"
    }
   ],
   "source": [
    "# *** Question 2c ***\n",
    "# Calculate the percent change of energy production per type of energy for California between 1990 and 2020\n",
    "energy_prod_1990 = calc_percs(1990) #Calculate relative energy percentages in 1990\n",
    "energy_prod_2020 = calc_percs(2020) #Calculate relative energy percentages in 2020\n",
    "\n",
    "diff = energy_prod_2020.subtract(energy_prod_1990, fill_value=0) #Difference between 2020 and 1990 values\n",
    "diff_perc = diff.div(energy_prod_1990) #Get raw values\n",
    "perc_inc = diff_perc.mul(100) #Get percentage values\n",
    "perc_inc"
   ]
  },
  {
   "cell_type": "markdown",
   "id": "28d7bb6d",
   "metadata": {
    "slideshow": {
     "slide_type": "slide"
    }
   },
   "source": [
    "## Data Science Algorithms"
   ]
  },
  {
   "cell_type": "markdown",
   "id": "5b1791f9",
   "metadata": {
    "slideshow": {
     "slide_type": "slide"
    }
   },
   "source": [
    "### a) Linear/Non-Linear Regression\n",
    "I implemented polynomial regression"
   ]
  },
  {
   "cell_type": "code",
   "execution_count": 8,
   "id": "172c9608",
   "metadata": {
    "slideshow": {
     "slide_type": "subslide"
    }
   },
   "outputs": [
    {
     "name": "stdout",
     "output_type": "stream",
     "text": [
      "3\n",
      "3\n",
      "3\n"
     ]
    },
    {
     "data": {
      "image/png": "[encoded data removed]",
      "text/plain": [
       "<Figure size 432x288 with 1 Axes>"
      ]
     },
     "metadata": {
      "needs_background": "light"
     },
     "output_type": "display_data"
    },
    {
     "name": "stdout",
     "output_type": "stream",
     "text": [
      "Mean absolute error: 3.88\n",
      "Residual sum of squares (MSE): 21.77\n",
      "R2-score: 0.41\n",
      "\n",
      "\n"
     ]
    },
    {
     "data": {
      "image/png": "[encoded data removed]",
      "text/plain": [
       "<Figure size 432x288 with 1 Axes>"
      ]
     },
     "metadata": {
      "needs_background": "light"
     },
     "output_type": "display_data"
    },
    {
     "name": "stdout",
     "output_type": "stream",
     "text": [
      "Mean absolute error: 3.88\n",
      "Residual sum of squares (MSE): 21.77\n",
      "R2-score: 0.41\n",
      "\n",
      "\n"
     ]
    }
   ],
   "source": [
    "# *** Question 3a ***\n",
    "#Polynomial Regression\n",
    "\"\"\"\n",
    "After building the linear regression model, I knew that my data did not have a linear relationship. Since my\n",
    "research questions are to calculate when California will be 100% powered by renewables and the relative usage of\n",
    "different energy sources in that year, I knew that I needed a better regression model in order to answer my research\n",
    "questions. So, I thought of polynomial regression and finding the optimal number of degrees, as I thought a\n",
    "polynomial function would better fit my data.\n",
    "\"\"\"\n",
    "from sklearn.preprocessing import PolynomialFeatures\n",
    "from sklearn import linear_model\n",
    "from sklearn.metrics import r2_score\n",
    "\n",
    "cat_df.reset_index(inplace=True) #Make year a column that can be used as x axis\n",
    "\n",
    "\n",
    "def train_test_poly(col, degree, opt):\n",
    "    #Train/test split\n",
    "    poly = PolynomialFeatures(degree= degree, include_bias=False)\n",
    "    poly_reg_model = linear_model.LinearRegression()\n",
    "    train_x = np.asanyarray(cat_df[['Year']])\n",
    "    train_y = np.asanyarray(cat_df[[col]])\n",
    "    poly_features = poly.fit_transform(train_x.reshape(-1, 1))\n",
    "    poly_reg_model.fit(poly_features, train_y)\n",
    "    train_y_ = poly_reg_model.predict(poly_features)\n",
    "    \n",
    "    if opt == True: #Only when model is optimized\n",
    "        #Plot model\n",
    "        plt.scatter(train_x, train_y, color='blue')\n",
    "        plt.plot(train_x, train_y_, c=\"red\")\n",
    "        plt.xlabel(\"Year\")\n",
    "        plt.ylabel(\"Relative Usage of \" + col + \" (%)\")\n",
    "        plt.title(\"Polynomial Regression of \" + col)\n",
    "        sns.despine(right=True) #Remove line on the right\n",
    "        plt.show()\n",
    "        plt.close()\n",
    "    \n",
    "    #Test accuracy\n",
    "    test_x = np.asanyarray(cat_df[['Year']])\n",
    "    poly_features_test = poly.fit_transform(test_x.reshape(-1, 1))\n",
    "    test_y = np.asanyarray(cat_df[[col]])\n",
    "    test_y_ = poly_reg_model.predict(poly_features_test)\n",
    "    \n",
    "    if opt == False: #For optimizing model\n",
    "        mean_absolute_error = np.mean(np.absolute(test_y_ - test_y))\n",
    "        mse = np.mean((test_y_ - test_y) ** 2)\n",
    "        r2 = r2_score(test_y , test_y_)\n",
    "   \n",
    "        return mean_absolute_error, mse, r2\n",
    "\n",
    "    if opt == True: #Accuracy evaluation of optimized model\n",
    "        print(\"Mean absolute error: %.2f\" % np.mean(np.absolute(test_y_ - test_y)))\n",
    "        print(\"Residual sum of squares (MSE): %.2f\" % np.mean((test_y_ - test_y) ** 2))\n",
    "        print(\"R2-score: %.2f\" % r2_score(test_y , test_y_))\n",
    "        print(\"\\n\")\n",
    "    \n",
    "    \n",
    "#Find optimal degree for polynomial\n",
    "mae_list = []\n",
    "mse_list = []\n",
    "r2_list = []\n",
    "for val in range(1, 11):\n",
    "    mean_absolute_error, mse, r2 = train_test_poly('Fossil Fuels', val, False)\n",
    "    mae_list.append(mean_absolute_error)\n",
    "    mse_list.append(mse)\n",
    "    r2_list.append(r2)\n",
    "    \n",
    "print(mae_list.index(min(mae_list)) + 1) #Add one because index starts at 0\n",
    "print(mse_list.index(min(mse_list)) + 1)\n",
    "print(r2_list.index(max(r2_list)) + 1)\n",
    "    \n",
    "#Do Polynomial Regression for Fossil Fuel + Renewable Energy\n",
    "train_test_poly('Fossil Fuels', 3, True)\n",
    "train_test_poly('Renewable Energy', 3, True)"
   ]
  },
  {
   "cell_type": "markdown",
   "id": "cd72de4f",
   "metadata": {
    "slideshow": {
     "slide_type": "slide"
    }
   },
   "source": [
    "Questions for A:\n",
    "\n",
    "Analysis of Polynomial Regression\n",
    "\n",
    "1. Objective and Rationale:\n",
    "\n",
    "After building the linear regression model, I knew that my data did not have a linear relationship. Since my\n",
    "research questions are to calculate when California will be 100% powered by renewables and the relative usage of\n",
    "different energy sources in that year, I knew that I needed a better regression model in order to answer my research questions. So, I thought of polynomial regression and finding the optimal number of degrees, as I thought a polynomial function would better fit my data and help me answer my research question.\n",
    "\n",
    "2. Steps of Implementing the Algorithm with regards to the context:\n",
    "\n",
    "Because my dataset has a small sample size (30) and because I could not have any other method work, I trained the polynomial regression models with the entire training dataset. For these models, the training dataset came from the cat_df dataframe calculated ealier. The cat_df dataframe consists of the relative percentages for fossil fuels and renewable energy for CA from 1990 - 2020. Before implementing a specific model, I optimized the model by finding the optimal number of degrees for the polynomial. I did this by calculating the MAE, MSE, and R2 score for polynomial models with a degree in range(1, 11) and choosing the degree that had the minimum MAE, minimum MSE, and maximum R2 score (which turned out to be degree = 3). After finding the optimal degree, I created one polynomial regression model with this optimal degree and evaluated the accuracy of this model using the MAE, MSE, and R2 score metrics.\n",
    "\n",
    "3. Interpretation of the results and prediction accuracy achieved:\n",
    "\n",
    "Although the polynomial regression is more accurate than the linear regression (especially after the number of degrees was optimized to improve the accuracy), it still has an MSE of 21.77 and an R2 score of 0.41, which is not very accurate. This is due to the small sample size (30), which limits the accuracy of the model.\n",
    "\n",
    "4. Performance improvement techniques and improved accuracy achieved:\n",
    "\n",
    "I was able to improve the accuracy of my model by optimizing the number of degrees of the polynomial. I did this by calculating the MAE, MSE, and R2 score for polynomial models with a degree in range(1, 11) and choosing the degree that had the minimum MAE, minimum MSE, and maximum R2 score. Using this process, I found that a polynomial with a degree of 3 had the minimum MAE, minimum MSE, and maximum R2 score.\n",
    "\n",
    "The polynomial model building finished in 0.2 seconds."
   ]
  },
  {
   "cell_type": "markdown",
   "id": "4ec38e4b",
   "metadata": {
    "slideshow": {
     "slide_type": "slide"
    }
   },
   "source": [
    "### b) Predictive and Classification Algorithms\n",
    "I implemented K-NN Classification"
   ]
  },
  {
   "cell_type": "code",
   "execution_count": 9,
   "id": "cd5219dc",
   "metadata": {
    "scrolled": true,
    "slideshow": {
     "slide_type": "subslide"
    }
   },
   "outputs": [
    {
     "name": "stderr",
     "output_type": "stream",
     "text": [
      "/Users/av/opt/anaconda3/lib/python3.9/site-packages/sklearn/preprocessing/_label.py:133: DataConversionWarning: A column-vector y was passed when a 1d array was expected. Please change the shape of y to (n_samples, ), for example using ravel().\n",
      "  y = column_or_1d(y, warn=True)\n"
     ]
    },
    {
     "data": {
      "image/png": "[encoded data removed]",
      "text/plain": [
       "<Figure size 432x288 with 1 Axes>"
      ]
     },
     "metadata": {
      "needs_background": "light"
     },
     "output_type": "display_data"
    },
    {
     "name": "stdout",
     "output_type": "stream",
     "text": [
      "The best accuracy was 0.3333333333333333 with k= 8\n",
      "\n",
      "\n",
      "[0.41463415 0.41463415 0.41463415 0.425      0.35       0.4\n",
      " 0.425      0.35       0.475      0.675     ] \n",
      "\n",
      "Mean accuracy: 0.434390243902439\n"
     ]
    }
   ],
   "source": [
    "# *** Question 3b ***\n",
    "'''\n",
    "K-NN Classification\n",
    "\n",
    "For the classification and clustering algorithms, I switched from using the fossil fuel vs renewable energy dataset\n",
    "(cat_df) to the all energy sources (all_years) dataset, as I wanted to have a holistic view of the dataset. \n",
    "In doing K-NN classification, I was trying to identify whether the different energy sources have \n",
    "intrinsic properties that a model could pick up on. Because there are many variables in the usage of a certain \n",
    "type of energy source, I thought using just a relative percentage would prevent over-fitting and allow all the \n",
    "variables to be implicitly included.\n",
    "\n",
    "\n",
    "Steps:\n",
    "1. Create dataset with columns of year, percent, energy source\n",
    "2. Do K-NN Classification\n",
    "'''\n",
    "\n",
    "#Step 1: Create dataset with columns of year, percent, energy source\n",
    "all_years.reset_index(inplace=True) #Make year a column that can be used as x axis\n",
    "to_group_df = all_years.set_index('Year')\n",
    "to_group_df = to_group_df.stack().reset_index(level=1, name='Percent').rename(columns={'level_1':'Energy Source'})[['Percent','Energy Source']]\n",
    "to_group_df.reset_index(inplace=True)\n",
    "\n",
    "\n",
    "#Step 2: Do K-NN Classification\n",
    "#Create X and Y variables\n",
    "X = to_group_df[['Year', 'Percent']].values \n",
    "y = to_group_df[['Energy Source']].values\n",
    "\n",
    "#Need to convert Energy Source to Numeric\n",
    "from sklearn import preprocessing\n",
    "label_encoder_energy = preprocessing.LabelEncoder()\n",
    "label_encoder_energy.fit(['Coal', 'Other Biomass', 'Other', 'Wind', 'Hydro', 'Solar', 'Geothermal', 'Nuclear', 'Petroleum','Pumped Storage','Wood and Wood Derived Fuels','Natural Gas','Other Gases'])\n",
    "y = label_encoder_energy.transform(y)\n",
    "\n",
    "#Normalize data\n",
    "from sklearn import preprocessing\n",
    "X = preprocessing.StandardScaler().fit(X).transform(X.astype(float))\n",
    "\n",
    "#Train/test split\n",
    "from sklearn.model_selection import train_test_split\n",
    "X_train, X_test, y_train, y_test = train_test_split(X, y, test_size=0.2, random_state=4)\n",
    "\n",
    "#Build model\n",
    "from sklearn.neighbors import KNeighborsClassifier\n",
    "from sklearn import metrics\n",
    "Ks = 50\n",
    "mean_acc = np.zeros((Ks-1))\n",
    "std_acc = np.zeros((Ks-1))\n",
    "\n",
    "for n in range(1,Ks):\n",
    "    \n",
    "    #Train Model and Predict  \n",
    "    neigh = KNeighborsClassifier(n_neighbors = n).fit(X_train, y_train)\n",
    "    yhat=neigh.predict(X_test)\n",
    "    mean_acc[n-1] = metrics.accuracy_score(y_test, yhat)\n",
    "  \n",
    "    std_acc[n-1]=np.std(yhat==y_test)/np.sqrt(yhat.shape[0])\n",
    "    \n",
    "mean_acc\n",
    "\n",
    "#Plot model accuracy for different K-Values\n",
    "plt.plot(range(1,Ks),mean_acc,'g')\n",
    "plt.fill_between(range(1,Ks),mean_acc - 1 * std_acc,mean_acc + 1 * std_acc, alpha=0.10)\n",
    "plt.fill_between(range(1,Ks),mean_acc - 3 * std_acc,mean_acc + 3 * std_acc, alpha=0.10,color=\"green\")\n",
    "plt.legend(('Accuracy ', '+/- 1xstd','+/- 3xstd'))\n",
    "plt.ylabel('Accuracy ')\n",
    "plt.xlabel('Number of Neighbors (K)')\n",
    "plt.title('Evaluating Accuracy of Different K values')\n",
    "sns.despine(right=True) #Remove line on the right\n",
    "plt.show()\n",
    "plt.close()\n",
    "\n",
    "#Identify best K-Value\n",
    "print( \"The best accuracy was\", mean_acc.max(), \"with k=\", mean_acc.argmax()+1)\n",
    "print('\\n')\n",
    "\n",
    "\n",
    "#With K-fold cross validation\n",
    "from sklearn.model_selection import cross_val_score\n",
    "true_neigh = KNeighborsClassifier(n_neighbors = mean_acc.argmax()+1)\n",
    "true_scores = cross_val_score(true_neigh, X, y, cv= 10)\n",
    "\n",
    "\n",
    "#Evaluate accuracy of K-Fold Cross Validation\n",
    "\n",
    "print(true_scores, \"\\n\")\n",
    "print(\"Mean accuracy:\", np.mean(true_scores))\n"
   ]
  },
  {
   "cell_type": "markdown",
   "id": "466c2573",
   "metadata": {
    "slideshow": {
     "slide_type": "slide"
    }
   },
   "source": [
    "Questions for B:\n",
    "\n",
    "Analysis of K-NN Classification\n",
    "\n",
    "1. Objective and Rationale:\n",
    "\n",
    "For the classification and clustering algorithms, I switched from using the fossil fuel vs renewable energy dataset\n",
    "(cat_df) to the all energy sources (all_years) dataset, as I wanted to have a holistic view of the dataset. \n",
    "In doing K-NN classification, I was trying to identify whether the different energy sources have \n",
    "intrinsic properties that a model could pick up on. Because there are many variables in the usage of a certain \n",
    "type of energy source, I thought using just a relative percentage would prevent over-fitting and allow all the \n",
    "variables to be implicitly included.\n",
    "\n",
    "2. Steps of Implementing the Algorithm with regards to the context:\n",
    "\n",
    "For the K-NN classification model, I first organized the data with columns of year, percent, and energy source so that I could use all 3 features in the K-NN classification model. I then converted energy source from a categorical to a numerical value so that the K-NN Classification model could assign numeric classes to the data. I did this by using the LabelEncoder() method. I also normalized my data to improve the accuracy of the K-NN Classification Model. I did this by using the StandardScaler().fit.transform() method available for K-NN Classification models. After I finished such preprocessing, I then optimized my model by finding the best K value. I did this by creating K-NN classification models with K values from 1-49 and identifying the K value that yielded the highest Jaccard score. These individual models were trained using a train/test split with a test_size = 0.2. After I calculate the optimal K value, I created a K-NN classification model using this optimal K value and K-fold cross validation (another method to improve the accuracy of my model). I then evaluated the accuracy of this K-NN Classification model by calculating the mean jaccard score of the different folds.\n",
    "\n",
    "\n",
    "3. Interpretation of the results and prediction accuracy achieved:\n",
    "\n",
    "I was incorrect in believing that the different types of energy sources had intrinsic differentiators that a model\n",
    "could pick up. Even though I optimized the K-value and performed K-Fold cross validation to improve the accuracy\n",
    "of the model, the model still had a mean accuracy of ~0.35, which is low. This result suggests that I have an \n",
    "incomplete view of the factors affecting relative energy sources in CA and that I need to conduct further research\n",
    "in order to have a complete holistic view of the situation and allow a model to be accurate.\n",
    "\n",
    "4. Performance improvement techniques and improved accuracy achieved:\n",
    "\n",
    "I did improve the accuracy of my model by using some preprocessing (fit_transform) in order to standardize my data. I was able to improve the accuracy of my model by optimizing both the K value of my model and using K fold cross validation. I optimized the K value of my model by creating K-NN classification models with K values from 1-49 and identifying the K value that yielded the highest Jaccard score. By using this optimal K value in my final K-NN classification model, I was able to improve the accuracy of the model. I also improved the accuracy of the model using K-fold cross validation, which provided a greater accuracy than the train/test split used for the polynomial model.\n",
    "\n",
    "The K-NN Classification model building finished in 0.2 seconds. I did convert energy sources to a numerical value by using the LabelEncoder() method so that my K-NN Classification model could work."
   ]
  },
  {
   "cell_type": "markdown",
   "id": "3184bbe6",
   "metadata": {
    "slideshow": {
     "slide_type": "slide"
    }
   },
   "source": [
    "### c) Clustering\n",
    "I implemented K-Means Clustering"
   ]
  },
  {
   "cell_type": "code",
   "execution_count": 10,
   "id": "fee7aca2",
   "metadata": {
    "slideshow": {
     "slide_type": "subslide"
    }
   },
   "outputs": [
    {
     "data": {
      "image/png": "[encoded data removed]",
      "text/plain": [
       "<Figure size 432x288 with 1 Axes>"
      ]
     },
     "metadata": {
      "needs_background": "light"
     },
     "output_type": "display_data"
    },
    {
     "name": "stdout",
     "output_type": "stream",
     "text": [
      "Elbow Point:  4\n"
     ]
    },
    {
     "data": {
      "image/png": "[encoded data removed]",
      "text/plain": [
       "<Figure size 432x288 with 1 Axes>"
      ]
     },
     "metadata": {
      "needs_background": "light"
     },
     "output_type": "display_data"
    }
   ],
   "source": [
    "# *** Question 3c ***\n",
    "'''\n",
    "K-Means Clustering\n",
    "\n",
    "Because I am using the all_years dataset, which has a value for each energy source in CA for each year from 1990\n",
    "-2020, my dataset was ~400 rows long. So, I was not able to use any form of hierarchical clustering, as it would\n",
    "have been too slow and would have created a complicated and cluttered dendrogram, though it would have provided\n",
    "insight into how important the year and type of energy source were as factors in relative usage. Instead, I used\n",
    "K-Means Clustering. My main goal with K-Means Clustering was to see if the model would be able to group the energy\n",
    "sources together without any labeling (an extension of the intrinsic properties of the energy sources investigated\n",
    "with the K-Means Classification Model).\n",
    "\n",
    "Steps:\n",
    "1. Use to_group_df as dataset for training + testing\n",
    "2. Do K-Means clustering w/ K-Fold cross Validation\n",
    "'''\n",
    "\n",
    "#Define X\n",
    "X_cluster = to_group_df[['Year', 'Percent']].values \n",
    "\n",
    "#Pre-processing\n",
    "from sklearn.preprocessing import StandardScaler\n",
    "X_cluster = np.nan_to_num(X_cluster)\n",
    "Cluster_dataset = StandardScaler().fit_transform(X_cluster)\n",
    "\n",
    "#Build model\n",
    "from sklearn.cluster import KMeans\n",
    "#Find optimal n_clusters\n",
    "elbow_data_pts = []\n",
    "for num in range(1, 20):\n",
    "    k_means = KMeans(init = \"k-means++\", n_clusters = num, n_init = 20)\n",
    "    k_means.fit(X_cluster)\n",
    "    elbow_data_pts.append(k_means.inertia_) #Error\n",
    "    \n",
    "#Plot elbow graph\n",
    "plt.plot(range(1, 20), elbow_data_pts)\n",
    "plt.xlabel('Number of clusters')\n",
    "plt.ylabel('Error')\n",
    "plt.title('Elbow Method')\n",
    "sns.despine(right=True) #Remove line on the right\n",
    "plt.show()\n",
    "plt.close()\n",
    "\n",
    "#Calculate elbow pt\n",
    "from kneed import KneeLocator\n",
    "kneedle = KneeLocator(x = range(1, 20), y = elbow_data_pts, curve = \"convex\", direction = \"decreasing\")\n",
    "elbow_pt = kneedle.elbow\n",
    "print('Elbow Point: ', elbow_pt)\n",
    "\n",
    "\n",
    "#Do K-Means Cluster w/ optimal n_clusters\n",
    "true_k_means = KMeans(init = \"k-means++\", n_clusters = elbow_pt, n_init = 20)\n",
    "true_k_means.fit(X_cluster)\n",
    "\n",
    "\n",
    "#Visualize K-Means Cluster\n",
    "\n",
    "labels = true_k_means.labels_\n",
    "plt.scatter(X_cluster[:, 0], X_cluster[:, 1], c=labels.astype(float), alpha=0.5)\n",
    "plt.xlabel('Year')\n",
    "plt.ylabel('Percent')\n",
    "plt.title(\"K-Means Clustering of Energy Sources Based on Year and Relative Percentage\")\n",
    "sns.despine(right=True) #Remove line on the right\n",
    "plt.show()\n",
    "plt.close()"
   ]
  },
  {
   "cell_type": "markdown",
   "id": "0dc7780b",
   "metadata": {
    "slideshow": {
     "slide_type": "slide"
    }
   },
   "source": [
    "Questions for C:\n",
    "\n",
    "Analysis of K-Means Clustering\n",
    "\n",
    "1. Objective and Rationale:\n",
    "\n",
    "Because I am using the all_years dataset, which has a value for each energy source in CA for each year from 1990\n",
    "-2020, my dataset was ~400 rows long. So, I was not able to use any form of hierarchical clustering, as it would\n",
    "have been too slow and would have created a complicated and cluttered dendrogram, though it would have provided\n",
    "insight into how important the year and type of energy source were as factors in relative usage. Instead, I used\n",
    "K-Means Clustering. My main goal with K-Means Clustering was to see if the model would be able to group the energy\n",
    "sources together without any labeling (an extension of the intrinsic properties of the energy sources investigated\n",
    "with the K-Means Classification Model).\n",
    "\n",
    "2. Steps of Implementing the Algorithm with regards to the context:\n",
    "\n",
    "For the K-Means Clustering model, I first standardized my data in order to improve the accuracy of the model. I did this by using the StandardScaler.fit_transform() method available for K-Means Clusters models. This standardization was the extent of my preprocessing. Before building my final K-Means Cluster model, I optimized the model by using the elbow method to determine the optimal number of clusters. By using the elbow method, I was able to calculate the number of clusters that would yield the minimum error (jaccard error) as well as the error that a K-Means Clustering model built with that number of clusters would have. Finally, I built a K-Means Clustering model based on the value I calculated using the elbow method.\n",
    "\n",
    "\n",
    "3. Interpretation of the results and prediction accuracy achieved:\n",
    "\n",
    "Based on my results with K-NN Classification, I believed that the K-Means Clustering model would not be accurate,\n",
    "as I had already realized that there are certain variables that I had not considered. I did use the elbow method\n",
    "to find the best value of K for the K-Means Clustering model (in order to improve accuracy), but this k value did \n",
    "have a high error. The results showed that the model grouped mainly by percentage, which I did expect. After \n",
    "creating both K-NN Classification and K-Means Clustering models, I fully realized that I would need to add more \n",
    "variables to the dataset in order to improve the accuracy of the model.\n",
    "\n",
    "4. Performance improvement techniques and improved accuracy achieved:\n",
    "\n",
    "I did improve the accuracy of my model by using some preprocessing (fit_transform) in order to standardize my data. However, the main way I was able to improve the accuracy of my K-Means Clustering model was by using the elbow method to calculate the optimal number of clusters that would return the least error (jaccard error). \n",
    "\n",
    "\n",
    "The K-Means Clustering model building took 1.7 seconds to run."
   ]
  },
  {
   "cell_type": "markdown",
   "id": "878c0baf",
   "metadata": {
    "slideshow": {
     "slide_type": "slide"
    }
   },
   "source": [
    "### 3) Choose the best model and present the results: \n",
    "- k-NN regression with k = 2 had the highest accuracy out of all the algorithms tested, so it will be used to predict when California will be 100% powered by renewables."
   ]
  },
  {
   "cell_type": "code",
   "execution_count": 11,
   "id": "68724b3f",
   "metadata": {
    "slideshow": {
     "slide_type": "subslide"
    }
   },
   "outputs": [
    {
     "name": "stdout",
     "output_type": "stream",
     "text": [
      "[[46.64799105]\n",
      " [46.64799105]\n",
      " [44.86753926]\n",
      " [46.55267764]\n",
      " [45.95298832]\n",
      " [48.07574253]\n",
      " [55.49163862]\n",
      " [54.73822162]\n",
      " [53.79503973]\n",
      " [52.04580676]\n",
      " [47.09668229]\n",
      " [41.7525357 ]\n",
      " [42.30537668]\n",
      " [46.51809037]\n",
      " [45.02263407]\n",
      " [45.44782233]\n",
      " [47.15304288]\n",
      " [43.32560117]\n",
      " [38.93255094]\n",
      " [38.73435437]\n",
      " [41.32560467]\n",
      " [47.02269398]\n",
      " [43.69000705]\n",
      " [36.4707103 ]\n",
      " [36.34996506]\n",
      " [36.81529511]\n",
      " [42.80204099]\n",
      " [51.15703839]\n",
      " [52.78108153]\n",
      " [52.86038054]\n",
      " [52.01946086]\n",
      " [52.01946086]\n",
      " [52.01946086]\n",
      " [52.01946086]\n",
      " [52.01946086]\n",
      " [52.01946086]\n",
      " [52.01946086]\n",
      " [52.01946086]\n",
      " [52.01946086]\n",
      " [52.01946086]\n",
      " [52.01946086]\n",
      " [52.01946086]\n",
      " [52.01946086]\n",
      " [52.01946086]\n",
      " [52.01946086]\n",
      " [52.01946086]\n",
      " [52.01946086]\n",
      " [52.01946086]\n",
      " [52.01946086]\n",
      " [52.01946086]\n",
      " [52.01946086]\n",
      " [52.01946086]\n",
      " [52.01946086]\n",
      " [52.01946086]\n",
      " [52.01946086]\n",
      " [52.01946086]\n",
      " [52.01946086]\n",
      " [52.01946086]\n",
      " [52.01946086]\n",
      " [52.01946086]\n",
      " [52.01946086]\n",
      " [52.01946086]\n",
      " [52.01946086]\n",
      " [52.01946086]\n",
      " [52.01946086]\n",
      " [52.01946086]\n",
      " [52.01946086]\n",
      " [52.01946086]\n",
      " [52.01946086]\n",
      " [52.01946086]\n",
      " [52.01946086]\n",
      " [52.01946086]\n",
      " [52.01946086]\n",
      " [52.01946086]\n",
      " [52.01946086]\n",
      " [52.01946086]\n",
      " [52.01946086]\n",
      " [52.01946086]\n",
      " [52.01946086]\n",
      " [52.01946086]\n",
      " [52.01946086]\n",
      " [52.01946086]\n",
      " [52.01946086]\n",
      " [52.01946086]\n",
      " [52.01946086]\n",
      " [52.01946086]\n",
      " [52.01946086]\n",
      " [52.01946086]\n",
      " [52.01946086]\n",
      " [52.01946086]\n",
      " [52.01946086]\n",
      " [52.01946086]\n",
      " [52.01946086]\n",
      " [52.01946086]\n",
      " [52.01946086]\n",
      " [52.01946086]\n",
      " [52.01946086]\n",
      " [52.01946086]\n",
      " [52.01946086]\n",
      " [52.01946086]\n",
      " [52.01946086]\n",
      " [52.01946086]\n",
      " [52.01946086]\n",
      " [52.01946086]\n",
      " [52.01946086]\n",
      " [52.01946086]\n",
      " [52.01946086]\n",
      " [52.01946086]\n",
      " [52.01946086]\n",
      " [52.01946086]]\n"
     ]
    }
   ],
   "source": [
    "# *** Question 4c *** Answering Research Question 1: When will CA be 100% powered by renewables?\n",
    "#K-NN Regression\n",
    "from sklearn.neighbors import KNeighborsRegressor\n",
    "\n",
    "def k_nn_regextend(col):\n",
    "    X = np.asanyarray(cat_df[['Year']])\n",
    "    y = np.asanyarray(cat_df[[col]])\n",
    "\n",
    "    #Build model with best K value\n",
    "    knn=KNeighborsRegressor(n_neighbors=2) #Already know this from previous implementation\n",
    "    knn.fit(X, y)\n",
    "    \n",
    "    years_extended = np.arange(1990, 2100, 1)\n",
    "    years_extended = years_extended.reshape(-1, 1)\n",
    "    print(knn.predict(years_extended))\n",
    "\n",
    "k_nn_regextend('Renewable Energy')\n",
    "\n"
   ]
  },
  {
   "cell_type": "code",
   "execution_count": 12,
   "id": "5898be29",
   "metadata": {
    "slideshow": {
     "slide_type": "slide"
    }
   },
   "outputs": [
    {
     "data": {
      "text/plain": [
       "'\\nAnalysis: K-NN regression has the highest training accuracy but it is unable to predict future values beyond 2020.\\nSo, even though polynomial regression has a lower accuracy than K-NN regression, it will be used to answer the \\nresearch questions.\\n'"
      ]
     },
     "execution_count": 12,
     "metadata": {},
     "output_type": "execute_result"
    }
   ],
   "source": [
    "\"\"\"\n",
    "Analysis: K-NN regression has the highest training accuracy but it is unable to predict future values beyond 2020.\n",
    "So, even though polynomial regression has a lower accuracy than K-NN regression, it will be used to answer the \n",
    "research questions.\n",
    "\"\"\""
   ]
  },
  {
   "cell_type": "code",
   "execution_count": 13,
   "id": "f205cc2d",
   "metadata": {
    "slideshow": {
     "slide_type": "subslide"
    }
   },
   "outputs": [
    {
     "data": {
      "image/png": "[encoded data removed]",
      "text/plain": [
       "<Figure size 432x288 with 1 Axes>"
      ]
     },
     "metadata": {
      "needs_background": "light"
     },
     "output_type": "display_data"
    }
   ],
   "source": [
    "# *** Question 4c *** Answering Research Question 1: When will CA be 100% powered by renewables?\n",
    "#Polynomial Regression For Renewable Energy\n",
    "from sklearn.preprocessing import PolynomialFeatures\n",
    "\n",
    "def poly(col):\n",
    "    #Build model based on degree = 3 from earlier\n",
    "    poly = PolynomialFeatures(degree=3, include_bias=False)\n",
    "    poly_reg_model = linear_model.LinearRegression()\n",
    "    train_x = np.asanyarray(cat_df[['Year']])\n",
    "    train_y = np.asanyarray(cat_df[[col]])\n",
    "    poly_features = poly.fit_transform(train_x.reshape(-1, 1))\n",
    "    poly_reg_model.fit(poly_features, train_y)\n",
    "    train_y_ = poly_reg_model.predict(poly_features)\n",
    "    \n",
    "    #Make and plot prediction\n",
    "    years_extended = np.arange(2021, 2030, 1) #Prediction for next 10 years\n",
    "    years_extended_transformed = poly.fit_transform(years_extended.reshape(-1, 1))\n",
    "    prediction = poly_reg_model.predict(years_extended_transformed)\n",
    "    plt.plot(years_extended, prediction, label = col)\n",
    "    plt.xlabel('Year')\n",
    "    plt.ylabel('Percent')\n",
    "    plt.title('Fossil Fuels vs Renewable Energy in CA')\n",
    "    plt.ylim(0, 100)\n",
    "    sns.set_style('white') #Set background to just white\n",
    "    sns.despine(right=True) #Remove line on the right\n",
    "    plt.axhline(y = 100, color = 'r', linestyle = '--') #Show when 100% renewables in achieved\n",
    "    plt.legend(frameon=False, bbox_to_anchor=(1.05, 1), loc='upper left', borderaxespad=0)\n",
    "    \n",
    "#Do Polynomial Regression for Fossil Fuel + Renewable Energy\n",
    "poly('Renewable Energy')\n",
    "poly('Fossil Fuels')\n"
   ]
  },
  {
   "cell_type": "code",
   "execution_count": 14,
   "id": "be8b86ab",
   "metadata": {
    "slideshow": {
     "slide_type": "slide"
    }
   },
   "outputs": [
    {
     "data": {
      "text/plain": [
       "'\\nAnalysis of Results:\\nPolymomial Regression is limited in that Renewable Energy usage cannot go beyond 100%. So, all values over 100%\\nmust be disregarded. However, this polynomial regression does suggest that between 2027 and 2028 (beginning of 2028)\\n, California will be 100% powered by renewables. Because the regression uses polynomial of degree 3, the values for\\nrenewables increase at an exponential rate. Thus, a 100% value for renewables is likely after 2027-2028, though the\\nlarge percentage increase of solar (~7000% in the last 8 years) may counteract this.\\n'"
      ]
     },
     "execution_count": 14,
     "metadata": {},
     "output_type": "execute_result"
    }
   ],
   "source": [
    "\"\"\"\n",
    "Analysis of Results:\n",
    "Polymomial Regression is limited in that Renewable Energy usage cannot go beyond 100%. So, all values over 100%\n",
    "must be disregarded. However, this polynomial regression does suggest that between 2027 and 2028 (beginning of 2028)\n",
    ", California will be 100% powered by renewables. Because the regression uses polynomial of degree 3, the values for\n",
    "renewables increase at an exponential rate. Thus, a 100% value for renewables is likely after 2027-2028, though the\n",
    "large percentage increase of solar (~7000% in the last 8 years) may counteract this.\n",
    "\"\"\""
   ]
  },
  {
   "cell_type": "code",
   "execution_count": 15,
   "id": "d814bc52",
   "metadata": {
    "slideshow": {
     "slide_type": "slide"
    }
   },
   "outputs": [
    {
     "data": {
      "text/plain": [
       "\"\\nTypes of Renewable Energy: Let's further investigate the rest of the energy sources using this model. Note that the\\nenergy sources which did not have a max value >= 5 from 1990 - 2020 were not included, as they cluttered the \\nfollowing graph.\\n\""
      ]
     },
     "execution_count": 15,
     "metadata": {},
     "output_type": "execute_result"
    }
   ],
   "source": [
    "\"\"\"\n",
    "Types of Renewable Energy: Let's further investigate the rest of the energy sources using this model. Note that the\n",
    "energy sources which did not have a max value >= 5 from 1990 - 2020 were not included, as they cluttered the \n",
    "following graph.\n",
    "\"\"\""
   ]
  },
  {
   "cell_type": "code",
   "execution_count": 16,
   "id": "e8c68ed6",
   "metadata": {
    "slideshow": {
     "slide_type": "subslide"
    }
   },
   "outputs": [
    {
     "data": {
      "image/png": "[encoded data removed]",
      "text/plain": [
       "<Figure size 432x288 with 1 Axes>"
      ]
     },
     "metadata": {},
     "output_type": "display_data"
    }
   ],
   "source": [
    "# *** Question 4c ***\n",
    "\"\"\"\n",
    "Answering Research Question 2: What will be the relative usages of different energy types the year that CA is 100%\n",
    "powered by renewables?\n",
    "\"\"\"\n",
    "#Polynomial Regression For Solar and Natural Gas\n",
    "from sklearn.preprocessing import PolynomialFeatures\n",
    "\n",
    "def poly_all(col):\n",
    "    #Build model\n",
    "    poly = PolynomialFeatures(degree=3, include_bias=False)\n",
    "    poly_reg_model = linear_model.LinearRegression()\n",
    "    train_x = np.asanyarray(cat_df[['Year']])\n",
    "    train_y = np.asanyarray(all_years[[col]])\n",
    "    poly_features = poly.fit_transform(train_x.reshape(-1, 1))\n",
    "    poly_reg_model.fit(poly_features, train_y)\n",
    "    train_y_ = poly_reg_model.predict(poly_features)\n",
    "    \n",
    "    #Make and plot prediction\n",
    "    years_extended = np.arange(2021, 2030, 1) #Prediction for next 10 years\n",
    "    years_extended_transformed = poly.fit_transform(years_extended.reshape(-1, 1))\n",
    "    prediction = poly_reg_model.predict(years_extended_transformed)\n",
    "    plt.plot(years_extended, prediction, label = col)\n",
    "    plt.xlabel('Year')\n",
    "    plt.ylabel('Percent')\n",
    "    plt.title('Projections of Energy Sources of California')\n",
    "    plt.ylim(0, 100)\n",
    "    plt.axvline(x = 2027, color = 'black', linestyle = '--') #Show relative %s when CA is 100% renewables\n",
    "    sns.set_style('white') #Set background to just white\n",
    "    sns.despine(right=True) #Remove line on the right\n",
    "    plt.legend(frameon=False, bbox_to_anchor=(1.05, 1), loc='upper left', borderaxespad=0)\n",
    "    \n",
    "#Do Polynomial Regression for Fossil Fuel + Renewable Energy\n",
    "l = [] #Empty list\n",
    "all_years_to_plot = all_years.loc[:, all_years.max() >= 5] #Max >= 5%\n",
    "for col in all_years_to_plot: #Only plotting the major energy sources (1990 - 2020 max >= 5%) so that the graph is not crowded\n",
    "    l.append(col)\n",
    "l #List of all energy sources\n",
    "for source in l:\n",
    "    poly_all(str(source))"
   ]
  },
  {
   "cell_type": "markdown",
   "id": "4f08660f",
   "metadata": {
    "slideshow": {
     "slide_type": "slide"
    }
   },
   "source": [
    "### Improving Accuracy & Moving forward: \n",
    "       1. Identify more variables that affect the relative usage of different energy types in CA (e.g. political\n",
    "       ideology, GDP, useable area of state, etc..) and add them to the database & models.\n",
    "          a. This would generalize the model more and allow it to be applied to different states & countries.\n",
    "          \n",
    "       2. Test these models with data of different states & countries in order to identify whether the data is     over-fit or needs more variables to be accurate.\n",
    "       \n",
    "       3. Add data from 2021 and 2022 to improve the accuracy of the model.\n",
    "       \n",
    "       4. Use more algorithms (e.g. neural network, logistic regression) in order to improve the accuracy of the chosen model by evaluating more model options."
   ]
  },
  {
   "cell_type": "markdown",
   "id": "c33f6e0b",
   "metadata": {
    "slideshow": {
     "slide_type": "skip"
    }
   },
   "source": [
    "## Question 5: State the Overall insights obtained from the implemented project"
   ]
  },
  {
   "cell_type": "markdown",
   "id": "21c48722",
   "metadata": {},
   "source": [
    "#### Insights from Models:\n",
    "\n",
    "\n",
    "\n",
    "Out of the 3 regression algorithms (linear, polynomial, K-NN Regression), K-NN Regression has the highest accuracy with a MSE of 13.39 and an R2 score of 0.64. However, this is still not a very high accuracy. This is because the dataset is very small (only 30 rows).\n",
    "\n",
    "\n",
    "\n",
    "K-NN regression has the highest training accuracy but it is unable to predict future values beyond 2020.\n",
    "So, even though polynomial regression has a lower accuracy than K-NN regression, it is more useful for predicting future values. K-NN Regression is useful for predicting values that already lie in the training set range (e.g. 2015.1 in my case), which would make it good for predicting the energy source production in CA for a specific month from 1990 - 2020 (though there is already an EIA dataset with these values).\n",
    "\n",
    "\n",
    "K-Means Clustering is the least efficient algorithm. While the rest of the algorithms took 0.2 seconds to run, K-Means Clustering took 1.7 seconds to run. So, the unsupervised learning of K-Means Clusteruing comes with a performance cost.\n",
    "\n",
    "\n",
    "\n",
    "No model can be accurate if it has a dataset with only 30 rows. Also, models cannot identify implicit variables unless there is a variety of features (having only 1 or 2 features is not enough). \n",
    "\n",
    "\n",
    "<br>\n",
    "<br>\n",
    "\n",
    "\n",
    "\n",
    "\n",
    "\n",
    "#### Insights from Results:\n",
    "\n",
    " \n",
    "\n",
    "From 1990 to 2020, natural gas has been the overall largest source of California's energy (mean = 48.99%) and has even had a 6.56% increase in usage from 1990 to 2020. California's large usage of natural gas contributes to its high usage of fossil fuels, with 1996-1998 (when renewable energy was a higher proportion of California's energy than fossil fuels) all being years with natural gas at a proportion well below its mean. Thus, natural gas is a large factor in California's usage of fossil fuels. The same is true for solar and renewables. Between 1990 and 2020, solar had a 6989% increase in usage, most of which was since 2012. At the same time as solar's exponential growth, renewable energy had a large increase in its relative proportion of California's use.\n",
    "\n",
    "\n",
    "\n",
    "Polymomial Regression is limited in that Renewable Energy usage cannot go beyond 100%. So, all values over 100%\n",
    "must be disregarded. However, this polynomial regression does suggest that between 2027 and 2028 (beginning of 2028), California will be 100% powered by renewables. Because the regression uses polynomial of degree 3, the values for\n",
    "renewables increase at an exponential rate. Thus, a 100% value for renewables is likely after 2027-2028, though the\n",
    "large percentage increase of solar (~7000% in the last 8 years) may counteract this.\n",
    "\n",
    "\n",
    "\n",
    "The polynomial regression model suggests that solar and hydro will be the most prominent renewables in 2027 (with solar being the most prominent renewable), when CA is 100% powered by renewables. The solar prediction aligns with the exponential increase (~700% in the last 8 years) that solar has had so far. However, from 1990 - 2020, hydro has had a ~23% decrease in relative usage, while wind has had a 322% increase in usage. This may be due to the model identifying an implicit variable related to hydro usage that is not immediately seen."
   ]
  },
  {
   "cell_type": "code",
   "execution_count": null,
   "id": "403fd79a",
   "metadata": {},
   "outputs": [],
   "source": []
  }
 ],
 "metadata": {
  "celltoolbar": "Slideshow",
  "kernelspec": {
   "display_name": "Python 3 (ipykernel)",
   "language": "python",
   "name": "python3"
  },
  "language_info": {
   "codemirror_mode": {
    "name": "ipython",
    "version": 3
   },
   "file_extension": ".py",
   "mimetype": "text/x-python",
   "name": "python",
   "nbconvert_exporter": "python",
   "pygments_lexer": "ipython3",
   "version": "3.9.13"
  }
 },
 "nbformat": 4,
 "nbformat_minor": 5
}
